{
  "cells": [
    {
      "cell_type": "code",
      "execution_count": 1,
      "id": "zSBXtXXm0P00",
      "metadata": {
        "id": "zSBXtXXm0P00"
      },
      "outputs": [
        {
          "ename": "ModuleNotFoundError",
          "evalue": "No module named 'osgeo'",
          "output_type": "error",
          "traceback": [
            "\u001b[0;31m---------------------------------------------------------------------------\u001b[0m",
            "\u001b[0;31mModuleNotFoundError\u001b[0m                       Traceback (most recent call last)",
            "Cell \u001b[0;32mIn[1], line 1\u001b[0m\n\u001b[0;32m----> 1\u001b[0m \u001b[38;5;28;01mfrom\u001b[39;00m \u001b[38;5;21;01mosgeo\u001b[39;00m \u001b[38;5;28;01mimport\u001b[39;00m gdal, osr\n\u001b[1;32m      2\u001b[0m \u001b[38;5;28;01mimport\u001b[39;00m \u001b[38;5;21;01mnumpy\u001b[39;00m \u001b[38;5;28;01mas\u001b[39;00m \u001b[38;5;21;01mnp\u001b[39;00m\n",
            "\u001b[0;31mModuleNotFoundError\u001b[0m: No module named 'osgeo'"
          ]
        }
      ],
      "source": [
        "from osgeo import gdal, osr\n",
        "import numpy as np"
      ]
    },
    {
      "cell_type": "code",
      "execution_count": 12,
      "id": "vRGskmdhx_zM",
      "metadata": {
        "colab": {
          "base_uri": "https://localhost:8080/"
        },
        "id": "vRGskmdhx_zM",
        "outputId": "32dd0a52-c4d3-4301-8aef-95a4816b3ed3"
      },
      "outputs": [
        {
          "name": "stdout",
          "output_type": "stream",
          "text": [
            "Drive already mounted at /content/drive; to attempt to forcibly remount, call drive.mount(\"/content/drive\", force_remount=True).\n"
          ]
        }
      ],
      "source": [
        "from google.colab import drive\n",
        "drive.mount('/content/drive')\n"
      ]
    },
    {
      "cell_type": "markdown",
      "id": "BYbtlWWR1THi",
      "metadata": {
        "id": "BYbtlWWR1THi"
      },
      "source": [
        "### Daily to monthly transform"
      ]
    },
    {
      "cell_type": "markdown",
      "id": "m16CUkrD_qdh",
      "metadata": {
        "id": "m16CUkrD_qdh"
      },
      "source": [
        "By default, data is written with float32 dtype. It works well with future climate (\"NASA/NEX-GDDP\" from GEE)"
      ]
    },
    {
      "cell_type": "code",
      "execution_count": 13,
      "id": "4cf4c190",
      "metadata": {
        "id": "4cf4c190"
      },
      "outputs": [],
      "source": [
        "def array2raster(newRasterfn, dataset, array, metadata, dtype='Float32'):\n",
        "    \"\"\"\n",
        "    save GTiff file from numpy.array\n",
        "    input:\n",
        "        newRasterfn: save file name\n",
        "        dataset : original tif file\n",
        "        array : numpy.array\n",
        "        dtype: Byte or Float32.\n",
        "    \"\"\"\n",
        "    cols = array.shape[1]\n",
        "    rows = array.shape[0]\n",
        "    originX, pixelWidth, b, originY, d, pixelHeight = dataset.GetGeoTransform()\n",
        "\n",
        "    driver = gdal.GetDriverByName('GTiff')\n",
        "\n",
        "    # set data type to save.\n",
        "    GDT_dtype = gdal.GDT_Unknown\n",
        "    if dtype == \"Byte\":\n",
        "        GDT_dtype = gdal.GDT_Byte\n",
        "    elif dtype == \"Float32\":\n",
        "        GDT_dtype = gdal.GDT_Float32\n",
        "    elif dtype == \"Int16\":\n",
        "        GDT_dtype = gdal.GDT_Int16\n",
        "    else:\n",
        "        print(\"Not supported data type.\")\n",
        "\n",
        "    # set number of band.\n",
        "    if array.ndim == 2:\n",
        "        band_num = 1\n",
        "    else:\n",
        "        band_num = array.shape[2]\n",
        "\n",
        "    outRaster = driver.Create(newRasterfn, cols, rows, band_num, GDT_dtype)\n",
        "    outRaster.SetGeoTransform((originX, pixelWidth, 0, originY, 0, pixelHeight))\n",
        "\n",
        "    # Loop over all bands.\n",
        "    for b in range(band_num):\n",
        "        outband = outRaster.GetRasterBand(b + 1)\n",
        "\n",
        "        # Read in the band's data into the third dimension of our array\n",
        "        if band_num == 1:\n",
        "            outband.WriteArray(array)\n",
        "            outband.SetDescription(metadata)\n",
        "        else:\n",
        "            outband.WriteArray(array[:,:,b])\n",
        "\n",
        "    # setteing srs from input tif file.\n",
        "    prj=dataset.GetProjection()\n",
        "    outRasterSRS = osr.SpatialReference(wkt=prj)\n",
        "    outRaster.SetProjection(outRasterSRS.ExportToWkt())\n",
        "    outband.FlushCache()"
      ]
    },
    {
      "cell_type": "code",
      "execution_count": 20,
      "id": "eGdKy7ryx7Bt",
      "metadata": {
        "id": "eGdKy7ryx7Bt"
      },
      "outputs": [],
      "source": [
        "path = 'drive/MyDrive/Geo_data/Crop_Asia/Climate_future/'\n",
        "model_scenario = 'MPI-ESM-MR_rcp45_'\n",
        "monthes = np.arange(1,13)"
      ]
    },
    {
      "cell_type": "code",
      "execution_count": 21,
      "id": "6a0075d2",
      "metadata": {
        "colab": {
          "base_uri": "https://localhost:8080/"
        },
        "id": "6a0075d2",
        "outputId": "15c8acab-dd3f-4a9f-9cfa-bde4172b4d5f"
      },
      "outputs": [
        {
          "name": "stdout",
          "output_type": "stream",
          "text": [
            "month 1\n",
            "month 2\n",
            "month 3\n",
            "month 4\n",
            "month 5\n",
            "month 6\n",
            "month 7\n",
            "month 8\n",
            "month 9\n",
            "month 10\n",
            "month 11\n",
            "month 12\n"
          ]
        }
      ],
      "source": [
        "# Compose monthly tiffs from Future Climate CMIP5 daily Data. Works with Google Drive (i.e. Colab)\n",
        "\n",
        "#Reference geo tiff to get geoinformation from\n",
        "year = '2027'\n",
        "source = gdal.Open(path + model_scenario + 'tasmax_'+ year + '_1.tif')\n",
        "\n",
        "# Numbers for specific month\n",
        "for month in monthes:\n",
        "    print('month', month)\n",
        "\n",
        "    # Count number of bands (= number of days) in current month\n",
        "    out = gdal.Open(path + model_scenario + 'pr_'+year+'_' + str(month) + '.tif')\n",
        "    n_bands = out.RasterCount\n",
        "    w = out.RasterXSize\n",
        "    h = out.RasterYSize\n",
        "    tmax_daily, tmin_daily, pr_daily = np.empty((h,w,0)), np.empty((h,w,0)), np.empty((h,w,0))\n",
        "    out = None\n",
        "\n",
        "    for i in range(n_bands):\n",
        "        tmmx = gdal.Open(path + model_scenario + 'tasmax_'+year+'_' + str(month) + '.tif')\n",
        "        raster_tmmx = tmmx.GetRasterBand(i+1).ReadAsArray(0, 0, tmmx.RasterXSize, tmmx.RasterYSize)\n",
        "        tmax_daily = np.dstack((tmax_daily, raster_tmmx))\n",
        "\n",
        "        tmmn = gdal.Open(path + model_scenario + 'tasmin_'+year+'_' + str(month) + '.tif')\n",
        "        raster_tmmn = tmmn.GetRasterBand(i+1).ReadAsArray(0, 0, tmmn.RasterXSize, tmmn.RasterYSize)\n",
        "        tmin_daily = np.dstack((tmin_daily, raster_tmmn))\n",
        "\n",
        "        pr = gdal.Open(path + model_scenario + 'pr_'+year+'_' + str(month) + '.tif')\n",
        "        raster_pr = pr.GetRasterBand(i+1).ReadAsArray(0, 0 ,pr.RasterXSize, pr.RasterYSize)\n",
        "        pr_daily = np.dstack((pr_daily, raster_pr))\n",
        "\n",
        "    tmax_monthly = np.mean( tmax_daily, axis=2 ) - 273.15  # convert Kelvins into Celcius\n",
        "    tmax_monthly = tmax_monthly*10  # coincide with TerraClimate scale factor\n",
        "\n",
        "    tmin_monthly = np.mean( tmin_daily, axis=2 )- 273.15  # convert Kelvins into Celcius\n",
        "    tmin_monthly = tmin_monthly*10  # coincide with TerraClimate scale factor\n",
        "\n",
        "    pr_monthly = np.sum ( pr_daily, axis=2 )*60*60*24  #convert kg/m2*s into mm/day\n",
        "\n",
        "    # This part rewrites file if it already exists\n",
        "    array2raster(path + model_scenario + 'tmmx_'+year+'_'+ str(month)+ '_avg.tif',\n",
        "                 source, tmax_monthly,\n",
        "                 model_scenario + str(year) + str(month)+'tasmax_avg')\n",
        "    array2raster(path + model_scenario + 'tmmn_'+year+'_'+ str(month)+ '_avg.tif',\n",
        "                 source, tmin_monthly,\n",
        "                 model_scenario + str(year) + str(month) +'tasmin_avg')\n",
        "    array2raster(path + model_scenario + 'pr_'+year+'_'+ str(month)+ '_avg.tif',\n",
        "                 source, pr_monthly,\n",
        "                 model_scenario + str(year) + str(month) +'pr_avg')\n",
        "\n",
        "# Close raster\n",
        "tmmx = None\n",
        "tmin = None\n",
        "pr = None"
      ]
    },
    {
      "cell_type": "code",
      "execution_count": 23,
      "id": "D3CDDLujYRQL",
      "metadata": {
        "colab": {
          "base_uri": "https://localhost:8080/"
        },
        "id": "D3CDDLujYRQL",
        "outputId": "e3d2f93e-7107-4fc1-a40b-2cb4e1b2ed84"
      },
      "outputs": [
        {
          "data": {
            "text/plain": [
              "432"
            ]
          },
          "execution_count": 23,
          "metadata": {},
          "output_type": "execute_result"
        }
      ],
      "source": [
        "import os\n",
        "len(os.listdir(path))"
      ]
    },
    {
      "cell_type": "code",
      "execution_count": 24,
      "id": "gYjkkq5fVbO7",
      "metadata": {
        "id": "gYjkkq5fVbO7"
      },
      "outputs": [],
      "source": [
        "z=[]"
      ]
    },
    {
      "cell_type": "code",
      "execution_count": 25,
      "id": "_Yvj4Ta4UwpA",
      "metadata": {
        "colab": {
          "base_uri": "https://localhost:8080/"
        },
        "id": "_Yvj4Ta4UwpA",
        "outputId": "66e74670-4f48-4e44-b936-a3adcf96fd4f"
      },
      "outputs": [
        {
          "name": "stdout",
          "output_type": "stream",
          "text": [
            "30\n"
          ]
        }
      ],
      "source": [
        "for file in os.listdir(path):\n",
        "  if 'avg' not in file:\n",
        "    os.remove(os.path.join(path, file))\n",
        "    # print(file)\n",
        "print(i)"
      ]
    },
    {
      "cell_type": "code",
      "execution_count": null,
      "id": "p5jaR9QsUyyN",
      "metadata": {
        "id": "p5jaR9QsUyyN"
      },
      "outputs": [],
      "source": [
        "import os"
      ]
    },
    {
      "cell_type": "code",
      "execution_count": null,
      "id": "cPbGYekwpk58",
      "metadata": {
        "colab": {
          "base_uri": "https://localhost:8080/"
        },
        "id": "cPbGYekwpk58",
        "outputId": "1f07e1b9-c109-4db8-b415-27c65726c6dd"
      },
      "outputs": [
        {
          "data": {
            "text/plain": [
              "108"
            ]
          },
          "execution_count": 10,
          "metadata": {},
          "output_type": "execute_result"
        }
      ],
      "source": [
        "len(z)"
      ]
    }
  ],
  "metadata": {
    "colab": {
      "provenance": []
    },
    "kernelspec": {
      "display_name": "Python 3 (ipykernel)",
      "language": "python",
      "name": "python3"
    },
    "language_info": {
      "codemirror_mode": {
        "name": "ipython",
        "version": 3
      },
      "file_extension": ".py",
      "mimetype": "text/x-python",
      "name": "python",
      "nbconvert_exporter": "python",
      "pygments_lexer": "ipython3",
      "version": "3.10.13"
    }
  },
  "nbformat": 4,
  "nbformat_minor": 5
}
